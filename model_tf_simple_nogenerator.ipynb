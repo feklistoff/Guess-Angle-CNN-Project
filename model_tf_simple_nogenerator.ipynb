{
 "cells": [
  {
   "cell_type": "markdown",
   "metadata": {},
   "source": [
    "## CNN that predicts angle\n",
    "\n",
    "A simple CNN with one output - a number represents angle of rotation. \n",
    "\n",
    "We use this angle to rotate picture back. As a visual indicator of rotation we use drawn rectangles."
   ]
  },
  {
   "cell_type": "code",
   "execution_count": 1,
   "metadata": {},
   "outputs": [],
   "source": [
    "import cv2\n",
    "import random\n",
    "import pandas as pd\n",
    "import matplotlib.image as mpimg\n",
    "import numpy as np\n",
    "from sklearn.utils import shuffle\n",
    "from sklearn.model_selection import train_test_split\n",
    "\n",
    "import tensorflow as tf\n",
    "\n",
    "import matplotlib.pyplot as plt\n",
    "%matplotlib inline"
   ]
  },
  {
   "cell_type": "code",
   "execution_count": 2,
   "metadata": {},
   "outputs": [
    {
     "name": "stdout",
     "output_type": "stream",
     "text": [
      "Number of training samples:  2600\n"
     ]
    }
   ],
   "source": [
    "# read csv logs\n",
    "rows = pd.read_csv('datalog_train_simple.csv')\n",
    "angles = rows['angle'].tolist()\n",
    "samples = rows['image'].tolist()\n",
    "print(\"Number of training samples: \", len(angles))"
   ]
  },
  {
   "cell_type": "code",
   "execution_count": 3,
   "metadata": {},
   "outputs": [],
   "source": [
    "# split\n",
    "shuffle(samples, angles)\n",
    "imgs_train, imgs_valid, angles_train, angles_valid = train_test_split(samples, angles, test_size=0.3)"
   ]
  },
  {
   "cell_type": "code",
   "execution_count": 4,
   "metadata": {},
   "outputs": [],
   "source": [
    "# constants\n",
    "SIZE = 64\n",
    "BATCH_SIZE = 64\n",
    "\n",
    "EPOCHS = 10\n",
    "LRATE = 0.0005\n",
    "STEPDECAY = 0.3\n",
    "DECAYFREQ = 10"
   ]
  },
  {
   "cell_type": "code",
   "execution_count": 5,
   "metadata": {},
   "outputs": [],
   "source": [
    "# data preprocessing pipeline\n",
    "def resize(img):\n",
    "    return cv2.resize(img, (SIZE, SIZE))\n",
    "\n",
    "def random_shift(img):\n",
    "    if random.randint(0, 1) == 0:\n",
    "        return img\n",
    "    h, w, c = img.shape\n",
    "    shape = (w, h)\n",
    "    M = np.float32([[1, 0, random.randint(-SIZE // 7, SIZE // 7)],\n",
    "                    [0, 1, random.randint(-SIZE // 9, SIZE // 9)]])\n",
    "    return cv2.warpAffine(img, M, shape)\n",
    "\n",
    "def flip(img, angle):\n",
    "    if random.randint(0, 1) == 0:\n",
    "        return img, angle\n",
    "    img = np.fliplr(img)\n",
    "    angle = -angle\n",
    "    return img, angle\n",
    "\n",
    "def normalize(img):\n",
    "    image = np.copy(img)\n",
    "    image = image / 250. - 0.5\n",
    "    return image\n",
    "\n",
    "def random_shadow(img):\n",
    "    if random.randint(0, 1) == 0:\n",
    "        return img\n",
    "    # set top x\n",
    "    x_top = random.randint(0, img.shape[1])\n",
    "    # set bottom x\n",
    "    x_bot = random.randint(0, img.shape[1])\n",
    "    if x_top >= img.shape[1] // 2:\n",
    "        x_bot = random.randint(0, img.shape[1] // 2)\n",
    "    if x_top > img.shape[1] // 2:\n",
    "        x_bot = random.randint(img.shape[1] // 2, img.shape[1])\n",
    "    # set corner x\n",
    "    x3 = x4 = random.choice([0, img.shape[1]])\n",
    "    # set y1, y2\n",
    "    y1 = 0\n",
    "    y2 = img.shape[0]\n",
    "    # draw shadow\n",
    "    overlay = np.copy(img)\n",
    "    pts = np.array([[x_top, y1], [x3, y1], [x4, y2], [x_bot, y2]], np.int32)\n",
    "    shadow = cv2.fillPoly(overlay, [pts], (0, 0, 0))\n",
    "    alfa = random.uniform(0.2, 0.8)\n",
    "    return cv2.addWeighted(shadow, alfa, img, 1 - alfa, 0)"
   ]
  },
  {
   "cell_type": "code",
   "execution_count": 6,
   "metadata": {},
   "outputs": [],
   "source": [
    "# preprocess data\n",
    "# training\n",
    "train_imgs = []\n",
    "train_angles = []\n",
    "for i in range(len(imgs_train)):\n",
    "    angle = angles_train[i] * (1 + random.uniform(-0.03, 0.03)) # add noise\n",
    "    img = mpimg.imread(imgs_train[i])\n",
    "    img = random_shift(img)\n",
    "    img = random_shadow(img)\n",
    "    img, angle = flip(img, angle)\n",
    "    img = resize(img)\n",
    "    img = normalize(img)\n",
    "    train_imgs.append(img)\n",
    "    train_angles.append(angle)\n",
    "\n",
    "# validation\n",
    "valid_imgs = []\n",
    "valid_angles = []\n",
    "for i in range(len(imgs_valid)):\n",
    "    angle = angles_valid[i]\n",
    "    img = mpimg.imread(imgs_valid[i])\n",
    "    img = resize(img)\n",
    "    img = normalize(img)\n",
    "    valid_imgs.append(img)\n",
    "    valid_angles.append(angle)"
   ]
  },
  {
   "cell_type": "code",
   "execution_count": 7,
   "metadata": {},
   "outputs": [],
   "source": [
    "# tensorflow graph placeholders\n",
    "x = tf.placeholder(tf.float32, (None, SIZE, SIZE, 3), name='x')\n",
    "y = tf.placeholder(tf.float32, (None), name='y')"
   ]
  },
  {
   "cell_type": "code",
   "execution_count": 8,
   "metadata": {},
   "outputs": [
    {
     "name": "stdout",
     "output_type": "stream",
     "text": [
      "layer1:  (?, 30, 30, 24)\n",
      "flatten:  (?, 21600)\n",
      "layer2:  (?, 100)\n",
      "logits:  (?, 1)\n"
     ]
    }
   ],
   "source": [
    "# network architecture\n",
    "layer1_W = tf.get_variable('W1', shape=[5, 5, 3, 24], initializer=tf.contrib.keras.initializers.he_normal()) \n",
    "layer1_b = tf.get_variable('b1', shape=[24], initializer=tf.zeros_initializer())\n",
    "layer1 = tf.nn.conv2d(x, layer1_W, strides=[1, 2, 2, 1], padding='VALID')\n",
    "layer1 = tf.nn.bias_add(layer1, layer1_b, name='layer1')\n",
    "layer1 = tf.nn.elu(layer1)\n",
    "\n",
    "print(\"layer1: \", layer1.get_shape())\n",
    "\n",
    "flatten = tf.contrib.layers.flatten(layer1)\n",
    "\n",
    "print(\"flatten: \", flatten.get_shape())\n",
    "\n",
    "layer2_W = tf.get_variable('W2', shape=[21600, 100], initializer=tf.contrib.keras.initializers.he_normal()) \n",
    "layer2_b = tf.get_variable('b2', shape=[100], initializer=tf.zeros_initializer())\n",
    "layer2 = tf.add(tf.matmul(flatten, layer2_W), layer2_b, name='layer2')\n",
    "layer2 = tf.nn.elu(layer2)\n",
    "\n",
    "print(\"layer2: \", layer2.get_shape())\n",
    "\n",
    "layer3_W = tf.get_variable('W3', shape=[100, 1], initializer=tf.contrib.keras.initializers.he_normal()) \n",
    "layer3_b = tf.get_variable('b3', shape=[1], initializer=tf.zeros_initializer())\n",
    "logits = tf.add(tf.matmul(layer2, layer3_W), layer3_b, name='output')\n",
    "\n",
    "print(\"logits: \", logits.get_shape())"
   ]
  },
  {
   "cell_type": "code",
   "execution_count": 9,
   "metadata": {},
   "outputs": [],
   "source": [
    "# training pipeline\n",
    "\n",
    "# loss = tf.reduce_mean(tf.squared_difference(logits, y))\n",
    "loss = tf.losses.mean_squared_error(labels=y, predictions=logits)\n",
    "# loss = tf.reduce_mean(tf.pow((logits - y),2))\n",
    "\n",
    "optimizer = tf.train.AdamOptimizer(learning_rate=LRATE)\n",
    "training_operation = optimizer.minimize(loss)\n",
    "\n",
    "# model evaluation pipeline\n",
    "saver = tf.train.Saver()\n",
    "\n",
    "def evaluate(X_data, y_data):\n",
    "    shuffle(X_data, y_data)\n",
    "    num_examples = len(X_data)\n",
    "    total_loss = 0\n",
    "    sess = tf.get_default_session()\n",
    "    for offset in range(0, num_examples, BATCH_SIZE):\n",
    "        end = offset + BATCH_SIZE\n",
    "        batch_x, batch_y = X_data[offset:end], y_data[offset:end]        \n",
    "        loss_value = sess.run(loss, feed_dict={x: batch_x, y: batch_y})\n",
    "        total_loss += loss_value * len(batch_x)\n",
    "    return total_loss / num_examples"
   ]
  },
  {
   "cell_type": "code",
   "execution_count": 10,
   "metadata": {},
   "outputs": [
    {
     "name": "stdout",
     "output_type": "stream",
     "text": [
      "Training...\n",
      "\n",
      "learning rate:  0.0005\n",
      "EPOCH 1 ...\n",
      "Train loss = 34.716\n",
      "Valid loss = 34.867\n",
      "\n",
      "EPOCH 2 ...\n",
      "Train loss = 35.741\n",
      "Valid loss = 36.041\n",
      "\n",
      "EPOCH 3 ...\n",
      "Train loss = 34.953\n",
      "Valid loss = 35.183\n",
      "\n",
      "EPOCH 4 ...\n",
      "Train loss = 35.180\n",
      "Valid loss = 35.426\n",
      "\n",
      "EPOCH 5 ...\n",
      "Train loss = 34.844\n",
      "Valid loss = 35.070\n",
      "\n",
      "EPOCH 6 ...\n",
      "Train loss = 34.671\n",
      "Valid loss = 34.887\n",
      "\n",
      "EPOCH 7 ...\n",
      "Train loss = 34.596\n",
      "Valid loss = 34.818\n",
      "\n",
      "EPOCH 8 ...\n",
      "Train loss = 34.564\n",
      "Valid loss = 34.794\n",
      "\n",
      "EPOCH 9 ...\n",
      "Train loss = 34.550\n",
      "Valid loss = 34.787\n",
      "\n",
      "EPOCH 10 ...\n",
      "Train loss = 34.543\n",
      "Valid loss = 34.786\n",
      "\n",
      "Model saved\n"
     ]
    }
   ],
   "source": [
    "# train model with learning rate step decay\n",
    "with tf.Session() as sess:\n",
    "    sess.run(tf.global_variables_initializer())\n",
    "    plot_learning_curves = []\n",
    "    num_examples = len(train_imgs)\n",
    "    \n",
    "    print(\"Training...\")\n",
    "    print()\n",
    "    print(\"learning rate: \", LRATE)\n",
    "    \n",
    "    for epoch in range(EPOCHS):\n",
    "        shuffle(train_imgs, train_angles)\n",
    "        \n",
    "        if (epoch + 1) != EPOCHS and (epoch + 1) % DECAYFREQ == 0:\n",
    "            LRATE *= STEPDECAY\n",
    "            print(\"New learning rate: \", LRATE)\n",
    "            print()\n",
    "        \n",
    "        for offset in range(0, num_examples, BATCH_SIZE):\n",
    "            end = offset + BATCH_SIZE\n",
    "            batch_x, batch_y = train_imgs[offset:end], train_angles[offset:end]\n",
    "            \n",
    "            sess.run(training_operation, feed_dict={x: batch_x, y: batch_y})\n",
    "        \n",
    "        training_loss = evaluate(train_imgs, train_angles)\n",
    "        validation_loss = evaluate(valid_imgs, valid_angles)\n",
    "        plot_learning_curves.append((training_loss, validation_loss))\n",
    "        \n",
    "        print(\"EPOCH {} ...\".format(epoch + 1))\n",
    "        print(\"Train loss = {:.3f}\".format(training_loss))\n",
    "        print(\"Valid loss = {:.3f}\".format(validation_loss))\n",
    "        print()       \n",
    "    \n",
    "    plot_later = pd.DataFrame(plot_learning_curves, columns=['train_loss', 'valid_loss'])\n",
    "    # plot_later.to_csv('tmp.csv', index=False)\n",
    "    \n",
    "    saver.save(sess, './tf_model/model_tf_simple')\n",
    "    print(\"Model saved\")"
   ]
  },
  {
   "cell_type": "code",
   "execution_count": 11,
   "metadata": {},
   "outputs": [
    {
     "data": {
      "image/png": "[encoded data removed]",
      "text/plain": [
       "<matplotlib.figure.Figure at 0x7effcd6ac7b8>"
      ]
     },
     "metadata": {},
     "output_type": "display_data"
    }
   ],
   "source": [
    "# plot loss\n",
    "# plot_l1 = pd.read_csv('tmp.csv')\n",
    "ax = plot_later.plot(title='Validation loss', figsize=(10, 7))\n",
    "ax.set_xlabel('Epochs')\n",
    "ax.set_ylabel('Loss')\n",
    "plt.show()"
   ]
  },
  {
   "cell_type": "markdown",
   "metadata": {
    "collapsed": true
   },
   "source": [
    "## Evaluate model"
   ]
  },
  {
   "cell_type": "code",
   "execution_count": 12,
   "metadata": {},
   "outputs": [
    {
     "name": "stdout",
     "output_type": "stream",
     "text": [
      "Number of test samples:  500\n"
     ]
    }
   ],
   "source": [
    "# read csv logs\n",
    "rows_test = pd.read_csv('datalog_test_simple.csv')\n",
    "angles_test = rows_test['angle'].tolist()\n",
    "samples_test = rows_test['image'].tolist()\n",
    "print(\"Number of test samples: \", len(samples_test))"
   ]
  },
  {
   "cell_type": "code",
   "execution_count": 13,
   "metadata": {},
   "outputs": [],
   "source": [
    "# load test data\n",
    "img_test = []\n",
    "ang_test = []\n",
    "\n",
    "for i in range(len(samples_test)-1):\n",
    "    angle = angles_test[i]\n",
    "    img = mpimg.imread(samples_test[i])\n",
    "    img = resize(img)\n",
    "    img = normalize(img)\n",
    "    img_test.append(img)\n",
    "    ang_test.append(angle)\n",
    "\n",
    "test_imgs = np.array(img_test)\n",
    "test_angles = np.array(ang_test)"
   ]
  },
  {
   "cell_type": "code",
   "execution_count": 14,
   "metadata": {},
   "outputs": [
    {
     "name": "stdout",
     "output_type": "stream",
     "text": [
      "INFO:tensorflow:Restoring parameters from ./tf_model/model_tf_simple\n",
      "Average error: ±5.84 degrees\n"
     ]
    }
   ],
   "source": [
    "# evaluate model\n",
    "with tf.Session() as sess:\n",
    "    saver.restore(sess, tf.train.latest_checkpoint('./tf_model'))\n",
    "    test_loss = evaluate(test_imgs, test_angles)\n",
    "    print(\"Average error: ±{:.2f} degrees\".format(np.sqrt(test_loss)))"
   ]
  },
  {
   "cell_type": "code",
   "execution_count": 15,
   "metadata": {},
   "outputs": [
    {
     "name": "stdout",
     "output_type": "stream",
     "text": [
      "Actual angle:  7\n"
     ]
    },
    {
     "data": {
      "image/png": "[encoded data removed]",
      "text/plain": [
       "<matplotlib.figure.Figure at 0x7effc00c8748>"
      ]
     },
     "metadata": {},
     "output_type": "display_data"
    }
   ],
   "source": [
    "# example: one test image that we want to correct\n",
    "random.seed(12)\n",
    "random_index = random.randint(0,len(samples_test)-1)\n",
    "angle = angles_test[random_index]\n",
    "img = mpimg.imread(samples_test[random_index])\n",
    "plt.imshow(img)\n",
    "print(\"Actual angle: \", angle)"
   ]
  },
  {
   "cell_type": "code",
   "execution_count": 16,
   "metadata": {},
   "outputs": [
    {
     "name": "stdout",
     "output_type": "stream",
     "text": [
      "INFO:tensorflow:Restoring parameters from ./tf_model/model_tf_simple\n",
      "Predicted angle:-0.12\n"
     ]
    }
   ],
   "source": [
    "# predict angle\n",
    "image = np.copy(img)\n",
    "image = resize(image)\n",
    "image = normalize(image)\n",
    "image_array = np.asarray(image)\n",
    "h, w, ch = image_array.shape\n",
    "img_tf = np.reshape(image_array, [1, h, w, ch])\n",
    "with tf.Session() as sess:\n",
    "    saver.restore(sess, tf.train.latest_checkpoint('./tf_model'))\n",
    "    test_pred = sess.run(logits, feed_dict={x: img_tf})\n",
    "    ang = test_pred[0][0]\n",
    "    print(\"Predicted angle:{:.2f}\".format(ang))"
   ]
  },
  {
   "cell_type": "code",
   "execution_count": 17,
   "metadata": {},
   "outputs": [
    {
     "data": {
      "image/png": "[encoded data removed]",
      "text/plain": [
       "<matplotlib.figure.Figure at 0x7effc0074e80>"
      ]
     },
     "metadata": {},
     "output_type": "display_data"
    }
   ],
   "source": [
    "# angle correction\n",
    "height, width, ch = img.shape\n",
    "sh = (width, height)\n",
    "center = (width // 2, height // 2)\n",
    "M = cv2.getRotationMatrix2D(center, -ang, 1.0)\n",
    "result = cv2.warpAffine(img, M, sh)\n",
    "plt.imshow(result)\n",
    "plt.show()"
   ]
  },
  {
   "cell_type": "code",
   "execution_count": null,
   "metadata": {
    "collapsed": true
   },
   "outputs": [],
   "source": []
  }
 ],
 "metadata": {
  "kernelspec": {
   "display_name": "Python 3",
   "language": "python",
   "name": "python3"
  },
  "language_info": {
   "codemirror_mode": {
    "name": "ipython",
    "version": 3
   },
   "file_extension": ".py",
   "mimetype": "text/x-python",
   "name": "python",
   "nbconvert_exporter": "python",
   "pygments_lexer": "ipython3",
   "version": "3.5.4"
  },
  "widgets": {
   "state": {},
   "version": "1.1.2"
  }
 },
 "nbformat": 4,
 "nbformat_minor": 2
}
