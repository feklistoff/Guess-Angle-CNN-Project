{
 "cells": [
  {
   "cell_type": "markdown",
   "metadata": {},
   "source": [
    "# Generate dataset\n",
    "\n",
    "Here we generate white 128x128 pictures with drawn rectangles. Width of each rectangle border varies between 1pix and 5pix. \n",
    "\n",
    "Also, all pictures randomly rotated between -10 and 10 degrees.\n"
   ]
  },
  {
   "cell_type": "code",
   "execution_count": 1,
   "metadata": {
    "collapsed": true
   },
   "outputs": [],
   "source": [
    "import cv2\n",
    "import random\n",
    "import pandas as pd\n",
    "import matplotlib.image as mpimg\n",
    "import numpy as np\n",
    "from PIL import Image\n",
    "import glob\n",
    "import matplotlib.pyplot as plt\n",
    "%matplotlib inline"
   ]
  },
  {
   "cell_type": "code",
   "execution_count": 2,
   "metadata": {},
   "outputs": [
    {
     "data": {
      "image/png": "[encoded data removed]",
      "text/plain": [
       "<matplotlib.figure.Figure at 0x7ff682f54fd0>"
      ]
     },
     "metadata": {},
     "output_type": "display_data"
    }
   ],
   "source": [
    "# example plain white\n",
    "width = 128\n",
    "height = 128\n",
    "\n",
    "# list of pixel data set to white color\n",
    "to_be_img = [(255, 255, 255)] * (width * height)\n",
    "\n",
    "# create\n",
    "img = Image.new('RGB', (width, height))\n",
    "img.putdata(to_be_img)\n",
    "img.save('test.jpg')\n",
    "plt.imshow(img)  \n",
    "plt.show()"
   ]
  },
  {
   "cell_type": "markdown",
   "metadata": {},
   "source": [
    "## Helper functions"
   ]
  },
  {
   "cell_type": "code",
   "execution_count": 3,
   "metadata": {
    "collapsed": true
   },
   "outputs": [],
   "source": [
    "# draw black rectangle\n",
    "def random_rectangle(img):\n",
    "    # set (x1, y1) (x2, y2) for rectangle top left and bottom right corners\n",
    "    left_x = img.shape[1] // 2\n",
    "    right_x = img.shape[1]\n",
    "    top_y = 0\n",
    "    bottom_y = img.shape[0]\n",
    "    while (right_x - left_x < bottom_y - top_y):\n",
    "        # set left/right x coordinate between 10 and 118 pix\n",
    "        left_x = random.randint(10, img.shape[1]//2 - 5)\n",
    "        right_x = random.randint(img.shape[1]//2 + 5, img.shape[1] - 10)\n",
    "        # set top/bottom y coordinate between 10 and 118 pix\n",
    "        top_y = random.randint(10, img.shape[0]//2 - 5)\n",
    "        bottom_y = random.randint(img.shape[0]//2 + 5, img.shape[0] - 10)        \n",
    "    # draw rectangle\n",
    "    return cv2.rectangle(img, (left_x, top_y), (right_x, bottom_y), (0,0,0), int(random.uniform(1, 5)))\n",
    "\n",
    "# rotate image between -angle, angle\n",
    "def random_rotation(img):\n",
    "    # set range\n",
    "    angles = 11\n",
    "    angle = int(random.uniform(-angles, angles))\n",
    "    height, width, ch = img.shape\n",
    "    shape = (width, height)\n",
    "    center = (width // 2, height // 2)\n",
    "    M = cv2.getRotationMatrix2D(center, angle, 1.0)\n",
    "    return cv2.warpAffine(img, M, shape), angle"
   ]
  },
  {
   "cell_type": "code",
   "execution_count": 4,
   "metadata": {},
   "outputs": [
    {
     "data": {
      "image/png": "[encoded data removed]",
      "text/plain": [
       "<matplotlib.figure.Figure at 0x7ff680c505f8>"
      ]
     },
     "metadata": {},
     "output_type": "display_data"
    }
   ],
   "source": [
    "# example\n",
    "img = mpimg.imread('test.jpg')\n",
    "im = []\n",
    "im.append(random_rectangle(img))\n",
    "im_1, a = random_rotation(img)\n",
    "im.append(im_1)\n",
    "\n",
    "n_rows = 1\n",
    "n_cols = 2\n",
    "plt.figure(figsize=(10, 5))\n",
    "\n",
    "for i in range(n_rows*n_cols):\n",
    "    plt.subplot(n_rows, n_cols, i+1)\n",
    "    test = im[i]\n",
    "    plt.tick_params(bottom='off', left='off', labelbottom='off', labelleft='off')\n",
    "    plt.imshow(test)"
   ]
  },
  {
   "cell_type": "code",
   "execution_count": 5,
   "metadata": {
    "collapsed": true
   },
   "outputs": [],
   "source": [
    "def draw_and_rotate(img, index, path, data):\n",
    "    img.save('./{}/sample{}.jpg'.format(path, index))\n",
    "        \n",
    "    # draw black rectangle of 5 pixels width \n",
    "    img = mpimg.imread('./{}/sample{}.jpg'.format(path, index)) # read\n",
    "    img = random_rectangle(img)\n",
    "\n",
    "    # randomly rotate image\n",
    "    img, angle = random_rotation(img)\n",
    "\n",
    "    # save image\n",
    "    cv2.imwrite('./{}/sample{}.jpg'.format(path, index), img)\n",
    "\n",
    "    # save data for csv log\n",
    "    data['image'].append('./{}/sample{}.jpg'.format(path, index))\n",
    "    data['angle'].append(angle)\n",
    "\n",
    "# create one samle image\n",
    "def create_sample(index, data, category):\n",
    "    # set WxH of image\n",
    "    width = 128\n",
    "    height = 128\n",
    "    # list of pixel data set to white color (value = 255)\n",
    "    to_be_img = [(255, 255, 255)] * (width * height)\n",
    "    \n",
    "    # create plain white image\n",
    "    img = Image.new('RGB', (width, height), color=255)\n",
    "    img.putdata(to_be_img)\n",
    "    \n",
    "    draw_and_rotate(img, index, category, data)"
   ]
  },
  {
   "cell_type": "markdown",
   "metadata": {},
   "source": [
    "## Generate"
   ]
  },
  {
   "cell_type": "code",
   "execution_count": 6,
   "metadata": {
    "collapsed": true
   },
   "outputs": [],
   "source": [
    "# set number of samples to create\n",
    "# 2000 training set, 600 validation set, 500 test set \n",
    "num_of_samples_train = 2000 + 600\n",
    "num_of_samples_test = 500"
   ]
  },
  {
   "cell_type": "code",
   "execution_count": 7,
   "metadata": {
    "collapsed": true
   },
   "outputs": [],
   "source": [
    "# generate samples\n",
    "\n",
    "# empty data dict for csv log\n",
    "data_train = {'image':[], 'angle':[]}\n",
    "data_test = {'image':[], 'angle':[]}\n",
    "\n",
    "# Go!\n",
    "# training set\n",
    "for i in range(num_of_samples_train):\n",
    "    create_sample(i, data_train, 'data_train')\n",
    "    \n",
    "# training set\n",
    "for i in range(num_of_samples_test):\n",
    "    create_sample(i, data_test, 'data_test')"
   ]
  },
  {
   "cell_type": "markdown",
   "metadata": {},
   "source": [
    "## Check"
   ]
  },
  {
   "cell_type": "code",
   "execution_count": 8,
   "metadata": {},
   "outputs": [
    {
     "name": "stdout",
     "output_type": "stream",
     "text": [
      "Number of samples:    2600\n",
      "Shape of the images:  (128, 128, 3)\n"
     ]
    },
    {
     "data": {
      "image/png": "[encoded data removed]",
      "text/plain": [
       "<matplotlib.figure.Figure at 0x7ff680b1d048>"
      ]
     },
     "metadata": {},
     "output_type": "display_data"
    }
   ],
   "source": [
    "# load samples\n",
    "samples = []\n",
    "for img in glob.glob('./data_train/*.jpg'):\n",
    "    image = mpimg.imread(img)\n",
    "    samples.append(image)\n",
    "\n",
    "print(\"Number of samples:   \", len(samples))\n",
    "print(\"Shape of the images: \", samples[0].shape)\n",
    "plt.imshow(samples[0], cmap='gray')\n",
    "plt.show()"
   ]
  },
  {
   "cell_type": "markdown",
   "metadata": {},
   "source": [
    "## Save to csv file ['angle', 'path/to/image']"
   ]
  },
  {
   "cell_type": "code",
   "execution_count": 9,
   "metadata": {
    "collapsed": true
   },
   "outputs": [],
   "source": [
    "# create pandas DF\n",
    "samples_data_train = pd.DataFrame(data_train)\n",
    "samples_data_test = pd.DataFrame(data_test)"
   ]
  },
  {
   "cell_type": "code",
   "execution_count": 10,
   "metadata": {
    "collapsed": true
   },
   "outputs": [],
   "source": [
    "samples_data_train.to_csv('datalog_train.csv', index=False)\n",
    "samples_data_test.to_csv('datalog_test.csv', index=False)"
   ]
  },
  {
   "cell_type": "code",
   "execution_count": 11,
   "metadata": {},
   "outputs": [
    {
     "data": {
      "text/html": [
       "<div>\n",
       "<style>\n",
       "    .dataframe thead tr:only-child th {\n",
       "        text-align: right;\n",
       "    }\n",
       "\n",
       "    .dataframe thead th {\n",
       "        text-align: left;\n",
       "    }\n",
       "\n",
       "    .dataframe tbody tr th {\n",
       "        vertical-align: top;\n",
       "    }\n",
       "</style>\n",
       "<table border=\"1\" class=\"dataframe\">\n",
       "  <thead>\n",
       "    <tr style=\"text-align: right;\">\n",
       "      <th></th>\n",
       "      <th>angle</th>\n",
       "    </tr>\n",
       "  </thead>\n",
       "  <tbody>\n",
       "    <tr>\n",
       "      <th>count</th>\n",
       "      <td>2600.000000</td>\n",
       "    </tr>\n",
       "    <tr>\n",
       "      <th>mean</th>\n",
       "      <td>0.002308</td>\n",
       "    </tr>\n",
       "    <tr>\n",
       "      <th>std</th>\n",
       "      <td>6.005256</td>\n",
       "    </tr>\n",
       "    <tr>\n",
       "      <th>min</th>\n",
       "      <td>-10.000000</td>\n",
       "    </tr>\n",
       "    <tr>\n",
       "      <th>25%</th>\n",
       "      <td>-5.000000</td>\n",
       "    </tr>\n",
       "    <tr>\n",
       "      <th>50%</th>\n",
       "      <td>0.000000</td>\n",
       "    </tr>\n",
       "    <tr>\n",
       "      <th>75%</th>\n",
       "      <td>5.000000</td>\n",
       "    </tr>\n",
       "    <tr>\n",
       "      <th>max</th>\n",
       "      <td>10.000000</td>\n",
       "    </tr>\n",
       "  </tbody>\n",
       "</table>\n",
       "</div>"
      ],
      "text/plain": [
       "             angle\n",
       "count  2600.000000\n",
       "mean      0.002308\n",
       "std       6.005256\n",
       "min     -10.000000\n",
       "25%      -5.000000\n",
       "50%       0.000000\n",
       "75%       5.000000\n",
       "max      10.000000"
      ]
     },
     "execution_count": 11,
     "metadata": {},
     "output_type": "execute_result"
    }
   ],
   "source": [
    "# read csv logs and check if everything ok\n",
    "rows = pd.read_csv('datalog_train.csv')\n",
    "rows.describe()"
   ]
  },
  {
   "cell_type": "code",
   "execution_count": null,
   "metadata": {
    "collapsed": true
   },
   "outputs": [],
   "source": []
  }
 ],
 "metadata": {
  "kernelspec": {
   "display_name": "Python 3",
   "language": "python",
   "name": "python3"
  },
  "language_info": {
   "codemirror_mode": {
    "name": "ipython",
    "version": 3
   },
   "file_extension": ".py",
   "mimetype": "text/x-python",
   "name": "python",
   "nbconvert_exporter": "python",
   "pygments_lexer": "ipython3",
   "version": "3.5.2"
  },
  "widgets": {
   "state": {},
   "version": "1.1.2"
  }
 },
 "nbformat": 4,
 "nbformat_minor": 2
}
