{
 "cells": [
  {
   "cell_type": "markdown",
   "metadata": {},
   "source": [
    "## CNN that predicts angle\n",
    "\n",
    "A simple CNN with one output - a number represents angle of rotation. \n",
    "\n",
    "We use this angle to rotate picture back. As a visual indicator of rotation we use drawn rectangles."
   ]
  },
  {
   "cell_type": "code",
   "execution_count": 1,
   "metadata": {},
   "outputs": [
    {
     "name": "stderr",
     "output_type": "stream",
     "text": [
      "Using TensorFlow backend.\n"
     ]
    }
   ],
   "source": [
    "import cv2\n",
    "import random\n",
    "import pandas as pd\n",
    "import matplotlib.image as mpimg\n",
    "import numpy as np\n",
    "from sklearn.utils import shuffle\n",
    "from sklearn.model_selection import train_test_split\n",
    "\n",
    "from keras.models import load_model\n",
    "from keras.models import Sequential\n",
    "from keras.layers import Lambda, Dense, Flatten, Dropout\n",
    "from keras.layers import Convolution2D, ELU\n",
    "from keras.regularizers import l2\n",
    "from keras.layers.normalization import BatchNormalization\n",
    "from keras.optimizers import Adam\n",
    "from keras.callbacks import LearningRateScheduler, EarlyStopping, ModelCheckpoint\n",
    "\n",
    "import matplotlib.pyplot as plt\n",
    "%matplotlib inline"
   ]
  },
  {
   "cell_type": "code",
   "execution_count": 2,
   "metadata": {
    "collapsed": true
   },
   "outputs": [],
   "source": [
    "# constants\n",
    "SIZE = 128\n",
    "BATCH_SIZE = 64"
   ]
  },
  {
   "cell_type": "code",
   "execution_count": 3,
   "metadata": {},
   "outputs": [
    {
     "name": "stdout",
     "output_type": "stream",
     "text": [
      "Number of training samples:  2600\n"
     ]
    }
   ],
   "source": [
    "# read csv logs\n",
    "rows = pd.read_csv('datalog_train.csv')\n",
    "angles = rows['angle'].tolist()\n",
    "samples = rows['image'].tolist()\n",
    "print(\"Number of training samples: \", len(angles))"
   ]
  },
  {
   "cell_type": "code",
   "execution_count": 4,
   "metadata": {
    "collapsed": true
   },
   "outputs": [],
   "source": [
    "# split\n",
    "shuffle(samples, angles)\n",
    "imgs_train, imgs_valid, angles_train, angles_valid = train_test_split(samples, angles, test_size=0.3)"
   ]
  },
  {
   "cell_type": "code",
   "execution_count": 5,
   "metadata": {
    "collapsed": true
   },
   "outputs": [],
   "source": [
    "# data preprocessing pipeline\n",
    "def random_shift(img):\n",
    "    if random.randint(0, 1) == 0:\n",
    "        return img\n",
    "    h, w, c = img.shape\n",
    "    shape = (w, h)\n",
    "    M = np.float32([[1, 0, random.randint(-SIZE // 7, SIZE // 7)],\n",
    "                    [0, 1, random.randint(-SIZE // 9, SIZE // 9)]])\n",
    "    return cv2.warpAffine(img, M, shape)\n",
    "\n",
    "def flip(img, angle):\n",
    "    if random.randint(0, 1) == 0:\n",
    "        return img, angle\n",
    "    img = np.fliplr(img)\n",
    "    angle = -angle\n",
    "    return img, angle"
   ]
  },
  {
   "cell_type": "code",
   "execution_count": 6,
   "metadata": {
    "collapsed": true
   },
   "outputs": [],
   "source": [
    "# generators\n",
    "def train_generator(batch_size):\n",
    "    while True:  # Loop forever so the generator never terminates\n",
    "        shuffle(imgs_train, angles_train)\n",
    "        batch_imgs = []\n",
    "        batch_angles = []\n",
    "        for i in range(batch_size):\n",
    "            random_index = random.randint(0,len(imgs_train)-1)\n",
    "            angle = angles_train[random_index] * (1 + random.uniform(-0.1, 0.1)) # add noise\n",
    "            img = mpimg.imread(imgs_train[random_index])\n",
    "            img = random_shift(img)\n",
    "            img, angle = flip(img, angle)\n",
    "            batch_imgs.append(img)\n",
    "            batch_angles.append(angle)\n",
    "        yield (np.array(batch_imgs), np.array(batch_angles))\n",
    "\n",
    "\n",
    "def valid_generator(batch_size):\n",
    "    while True:  # Loop forever so the generator never terminates\n",
    "        shuffle(imgs_valid, angles_valid)\n",
    "        batch_imgs = []\n",
    "        batch_angles = []\n",
    "        for i in range(batch_size):\n",
    "            random_index = random.randint(0,len(imgs_valid)-1)\n",
    "            angle = angles_train[random_index]\n",
    "            img = mpimg.imread(imgs_valid[random_index])\n",
    "            batch_imgs.append(img)\n",
    "            batch_angles.append(angle)\n",
    "        yield (np.array(batch_imgs), np.array(batch_angles))\n",
    "\n",
    "# generate\n",
    "generator_train = train_generator(BATCH_SIZE)\n",
    "generator_valid = valid_generator(BATCH_SIZE)"
   ]
  },
  {
   "cell_type": "code",
   "execution_count": 7,
   "metadata": {
    "collapsed": true
   },
   "outputs": [],
   "source": [
    "# parameters\n",
    "samples_per_epoch = (len(imgs_train) // BATCH_SIZE) * BATCH_SIZE\n",
    "shape = (SIZE, SIZE, 3)"
   ]
  },
  {
   "cell_type": "code",
   "execution_count": 8,
   "metadata": {
    "collapsed": true
   },
   "outputs": [],
   "source": [
    "# network architecture\n",
    "def guess_angle():\n",
    "    model = Sequential()\n",
    "    model.add(Lambda(lambda x: (x / 250) - 0.5, input_shape=shape))\n",
    "\n",
    "    model.add(Convolution2D(24, 5, 5, init='he_normal', subsample=(2, 2), \n",
    "                            border_mode='valid', W_regularizer=l2(0.001)))\n",
    "    model.add(BatchNormalization())\n",
    "    model.add(ELU())\n",
    "\n",
    "    model.add(Convolution2D(32, 5, 5, init='he_normal', subsample=(2, 2), \n",
    "                            border_mode='valid', W_regularizer=l2(0.001)))\n",
    "    model.add(BatchNormalization())\n",
    "    model.add(ELU())\n",
    "\n",
    "    model.add(Convolution2D(48, 5, 5, init='he_normal', subsample=(2, 2), \n",
    "                            border_mode='valid', W_regularizer=l2(0.001)))\n",
    "    model.add(BatchNormalization())\n",
    "    model.add(ELU())\n",
    "\n",
    "    model.add(Convolution2D(64, 3, 3, init='he_normal', subsample=(1, 1), \n",
    "                            border_mode='valid', W_regularizer=l2(0.001)))\n",
    "    model.add(BatchNormalization())\n",
    "    model.add(ELU())\n",
    "\n",
    "    model.add(Convolution2D(128, 3, 3, init='he_normal', subsample=(1, 1), \n",
    "                            border_mode='valid', W_regularizer=l2(0.001)))\n",
    "    model.add(BatchNormalization())\n",
    "    model.add(ELU())\n",
    "\n",
    "    model.add(Flatten())\n",
    "\n",
    "    model.add(Dense(256, init='he_normal'))\n",
    "    model.add(BatchNormalization())\n",
    "    model.add(ELU())\n",
    "    model.add(Dropout(0.8))\n",
    "\n",
    "    model.add(Dense(128, init='he_normal'))\n",
    "    model.add(BatchNormalization())\n",
    "    model.add(ELU())\n",
    "    model.add(Dropout(0.8))\n",
    "\n",
    "    model.add(Dense(32, init='he_normal'))\n",
    "    model.add(BatchNormalization())\n",
    "    model.add(ELU())\n",
    "    model.add(Dropout(0.4))\n",
    "\n",
    "    model.add(Dense(1))\n",
    "    return model"
   ]
  },
  {
   "cell_type": "code",
   "execution_count": 18,
   "metadata": {
    "scrolled": false
   },
   "outputs": [
    {
     "name": "stdout",
     "output_type": "stream",
     "text": [
      "____________________________________________________________________________________________________\n",
      "Layer (type)                     Output Shape          Param #     Connected to                     \n",
      "====================================================================================================\n",
      "lambda_3 (Lambda)                (None, 128, 128, 3)   0           lambda_input_6[0][0]             \n",
      "____________________________________________________________________________________________________\n",
      "convolution2d_11 (Convolution2D) (None, 62, 62, 24)    1824        lambda_3[0][0]                   \n",
      "____________________________________________________________________________________________________\n",
      "batchnormalization_17 (BatchNorm (None, 62, 62, 24)    96          convolution2d_11[0][0]           \n",
      "____________________________________________________________________________________________________\n",
      "elu_17 (ELU)                     (None, 62, 62, 24)    0           batchnormalization_17[0][0]      \n",
      "____________________________________________________________________________________________________\n",
      "convolution2d_12 (Convolution2D) (None, 29, 29, 32)    19232       elu_17[0][0]                     \n",
      "____________________________________________________________________________________________________\n",
      "batchnormalization_18 (BatchNorm (None, 29, 29, 32)    128         convolution2d_12[0][0]           \n",
      "____________________________________________________________________________________________________\n",
      "elu_18 (ELU)                     (None, 29, 29, 32)    0           batchnormalization_18[0][0]      \n",
      "____________________________________________________________________________________________________\n",
      "convolution2d_13 (Convolution2D) (None, 13, 13, 48)    38448       elu_18[0][0]                     \n",
      "____________________________________________________________________________________________________\n",
      "batchnormalization_19 (BatchNorm (None, 13, 13, 48)    192         convolution2d_13[0][0]           \n",
      "____________________________________________________________________________________________________\n",
      "elu_19 (ELU)                     (None, 13, 13, 48)    0           batchnormalization_19[0][0]      \n",
      "____________________________________________________________________________________________________\n",
      "convolution2d_14 (Convolution2D) (None, 11, 11, 64)    27712       elu_19[0][0]                     \n",
      "____________________________________________________________________________________________________\n",
      "batchnormalization_20 (BatchNorm (None, 11, 11, 64)    256         convolution2d_14[0][0]           \n",
      "____________________________________________________________________________________________________\n",
      "elu_20 (ELU)                     (None, 11, 11, 64)    0           batchnormalization_20[0][0]      \n",
      "____________________________________________________________________________________________________\n",
      "convolution2d_15 (Convolution2D) (None, 9, 9, 128)     73856       elu_20[0][0]                     \n",
      "____________________________________________________________________________________________________\n",
      "batchnormalization_21 (BatchNorm (None, 9, 9, 128)     512         convolution2d_15[0][0]           \n",
      "____________________________________________________________________________________________________\n",
      "elu_21 (ELU)                     (None, 9, 9, 128)     0           batchnormalization_21[0][0]      \n",
      "____________________________________________________________________________________________________\n",
      "flatten_3 (Flatten)              (None, 10368)         0           elu_21[0][0]                     \n",
      "____________________________________________________________________________________________________\n",
      "dense_9 (Dense)                  (None, 256)           2654464     flatten_3[0][0]                  \n",
      "____________________________________________________________________________________________________\n",
      "batchnormalization_22 (BatchNorm (None, 256)           1024        dense_9[0][0]                    \n",
      "____________________________________________________________________________________________________\n",
      "elu_22 (ELU)                     (None, 256)           0           batchnormalization_22[0][0]      \n",
      "____________________________________________________________________________________________________\n",
      "dropout_7 (Dropout)              (None, 256)           0           elu_22[0][0]                     \n",
      "____________________________________________________________________________________________________\n",
      "dense_10 (Dense)                 (None, 128)           32896       dropout_7[0][0]                  \n",
      "____________________________________________________________________________________________________\n",
      "batchnormalization_23 (BatchNorm (None, 128)           512         dense_10[0][0]                   \n",
      "____________________________________________________________________________________________________\n",
      "elu_23 (ELU)                     (None, 128)           0           batchnormalization_23[0][0]      \n",
      "____________________________________________________________________________________________________\n",
      "dropout_8 (Dropout)              (None, 128)           0           elu_23[0][0]                     \n",
      "____________________________________________________________________________________________________\n",
      "dense_11 (Dense)                 (None, 32)            4128        dropout_8[0][0]                  \n",
      "____________________________________________________________________________________________________\n",
      "batchnormalization_24 (BatchNorm (None, 32)            128         dense_11[0][0]                   \n",
      "____________________________________________________________________________________________________\n",
      "elu_24 (ELU)                     (None, 32)            0           batchnormalization_24[0][0]      \n",
      "____________________________________________________________________________________________________\n",
      "dropout_9 (Dropout)              (None, 32)            0           elu_24[0][0]                     \n",
      "____________________________________________________________________________________________________\n",
      "dense_12 (Dense)                 (None, 1)             33          dropout_9[0][0]                  \n",
      "====================================================================================================\n",
      "Total params: 2,855,441\n",
      "Trainable params: 2,854,017\n",
      "Non-trainable params: 1,424\n",
      "____________________________________________________________________________________________________\n",
      "learning rate: 0.001\n",
      "Epoch 1/40\n",
      "3584/3584 [==============================] - 7s - loss: 30.2746 - val_loss: 885.0229\n",
      "Epoch 2/40\n",
      "3584/3584 [==============================] - 6s - loss: 9.0076 - val_loss: 216.7961\n",
      "Epoch 3/40\n",
      "3584/3584 [==============================] - 5s - loss: 7.2237 - val_loss: 240.8158\n",
      "Epoch 4/40\n",
      "3584/3584 [==============================] - 5s - loss: 5.9230 - val_loss: 236.5869\n",
      "Epoch 5/40\n",
      "3584/3584 [==============================] - 6s - loss: 5.1815 - val_loss: 81.6222\n",
      "Epoch 6/40\n",
      "3584/3584 [==============================] - 5s - loss: 4.8689 - val_loss: 179.5405\n",
      "Epoch 7/40\n",
      "3584/3584 [==============================] - 6s - loss: 4.6975 - val_loss: 74.4243\n",
      "Epoch 8/40\n",
      "3584/3584 [==============================] - 6s - loss: 4.5538 - val_loss: 74.2154\n",
      "Epoch 9/40\n",
      "3584/3584 [==============================] - 5s - loss: 4.7403 - val_loss: 82.5755\n",
      "learning rate: 0.0003\n",
      "Epoch 10/40\n",
      "3584/3584 [==============================] - 5s - loss: 3.9692 - val_loss: 83.8555\n",
      "Epoch 11/40\n",
      "3584/3584 [==============================] - 5s - loss: 4.0892 - val_loss: 77.5761\n",
      "Epoch 12/40\n",
      "3584/3584 [==============================] - 5s - loss: 4.0199 - val_loss: 90.4552\n",
      "Epoch 13/40\n",
      "3584/3584 [==============================] - 5s - loss: 4.0094 - val_loss: 73.7552\n",
      "Epoch 14/40\n",
      "3584/3584 [==============================] - 5s - loss: 4.1497 - val_loss: 76.1957\n",
      "Epoch 15/40\n",
      "3584/3584 [==============================] - 5s - loss: 3.6807 - val_loss: 69.6364\n",
      "Epoch 16/40\n",
      "3584/3584 [==============================] - 5s - loss: 3.7893 - val_loss: 76.4213\n",
      "Epoch 17/40\n"
     ]
    },
    {
     "name": "stdout",
     "output_type": "stream",
     "text": [
      "3584/3584 [==============================] - 5s - loss: 3.9019 - val_loss: 73.3476\n",
      "Epoch 18/40\n",
      "3584/3584 [==============================] - 5s - loss: 3.7746 - val_loss: 92.1091\n",
      "Epoch 19/40\n",
      "3584/3584 [==============================] - 5s - loss: 3.8807 - val_loss: 72.7854\n",
      "learning rate: 9e-05\n",
      "Epoch 20/40\n",
      "3584/3584 [==============================] - 5s - loss: 3.5604 - val_loss: 70.0422\n",
      "Epoch 21/40\n",
      "3584/3584 [==============================] - 5s - loss: 3.8162 - val_loss: 67.9089\n",
      "Epoch 22/40\n",
      "3584/3584 [==============================] - 5s - loss: 3.6768 - val_loss: 76.5958\n",
      "Epoch 23/40\n",
      "3584/3584 [==============================] - 5s - loss: 3.6321 - val_loss: 67.2661\n",
      "Epoch 24/40\n",
      "3584/3584 [==============================] - 5s - loss: 3.5980 - val_loss: 77.7549\n",
      "Epoch 25/40\n",
      "3584/3584 [==============================] - 5s - loss: 3.5620 - val_loss: 69.4454\n",
      "Epoch 26/40\n",
      "3584/3584 [==============================] - 5s - loss: 3.6128 - val_loss: 68.7541\n",
      "Epoch 27/40\n",
      "3584/3584 [==============================] - 5s - loss: 3.4860 - val_loss: 75.4540\n",
      "Epoch 28/40\n",
      "3584/3584 [==============================] - 5s - loss: 3.5619 - val_loss: 70.9982\n",
      "Epoch 29/40\n",
      "3584/3584 [==============================] - 6s - loss: 3.6804 - val_loss: 69.3941\n"
     ]
    }
   ],
   "source": [
    "model = guess_angle()\n",
    "\n",
    "# train and save\n",
    "adam = Adam(lr=0.001)\n",
    "\n",
    "import keras.backend as K\n",
    "def scheduler(epoch):\n",
    "    if epoch == 0:\n",
    "        print(\"learning rate:\", K.get_value(model.optimizer.lr))\n",
    "    if (epoch+1) % 10 == 0:\n",
    "        rate = K.get_value(model.optimizer.lr)\n",
    "        K.set_value(model.optimizer.lr, rate * 0.3)\n",
    "        print(\"learning rate:\", K.get_value(model.optimizer.lr))\n",
    "    return K.get_value(model.optimizer.lr)\n",
    "\n",
    "learning_rate_decay = LearningRateScheduler(scheduler)\n",
    "early_stop = EarlyStopping(monitor='val_loss', patience=5)\n",
    "checkpoint = ModelCheckpoint('model_b.h5', monitor='val_loss', save_best_only=True)\n",
    "\n",
    "model.compile(loss='mse', optimizer=adam)\n",
    "model.summary()\n",
    "\n",
    "history = model.fit_generator(generator_train,\n",
    "                    samples_per_epoch=samples_per_epoch*2,\n",
    "                    validation_data=generator_valid,\n",
    "                    nb_val_samples=len(imgs_valid),\n",
    "                    nb_epoch=40, \n",
    "                    callbacks=[checkpoint, early_stop, learning_rate_decay])\n",
    "\n",
    "model.save('model_b.h5')\n"
   ]
  },
  {
   "cell_type": "markdown",
   "metadata": {
    "collapsed": true
   },
   "source": [
    "## Evaluate model"
   ]
  },
  {
   "cell_type": "code",
   "execution_count": 19,
   "metadata": {},
   "outputs": [
    {
     "data": {
      "image/png": "[encoded data removed]",
      "text/plain": [
       "<matplotlib.figure.Figure at 0x7fc2ed45cb00>"
      ]
     },
     "metadata": {},
     "output_type": "display_data"
    }
   ],
   "source": [
    "# plot loss\n",
    "plt.plot(history.history['loss'])\n",
    "plt.plot(history.history['val_loss'])\n",
    "plt.title('model mean squared error loss')\n",
    "plt.ylabel('mean squared error loss')\n",
    "plt.xlabel('epoch')\n",
    "plt.legend(['training set', 'validation set'], loc='upper right')\n",
    "plt.show()"
   ]
  },
  {
   "cell_type": "code",
   "execution_count": 14,
   "metadata": {},
   "outputs": [
    {
     "name": "stdout",
     "output_type": "stream",
     "text": [
      "Number of test samples:  500\n"
     ]
    }
   ],
   "source": [
    "# read csv logs\n",
    "rows_test = pd.read_csv('datalog_test.csv')\n",
    "angles_test = rows_test['angle'].tolist()\n",
    "samples_test = rows_test['image'].tolist()\n",
    "print(\"Number of test samples: \", len(samples_test))"
   ]
  },
  {
   "cell_type": "code",
   "execution_count": 10,
   "metadata": {},
   "outputs": [
    {
     "name": "stdout",
     "output_type": "stream",
     "text": [
      "Average accuracy: 99.08%\n"
     ]
    }
   ],
   "source": [
    "# evaluate on test data\n",
    "img_test = []\n",
    "ang_test = []\n",
    "for i in range(len(samples_test)-1):\n",
    "    angle = angles_test[i]\n",
    "    img = mpimg.imread(samples_test[i])\n",
    "    img_test.append(img)\n",
    "    ang_test.append(angle)\n",
    "    \n",
    "# evaluate\n",
    "model = load_model('model_b.h5')\n",
    "\n",
    "score = model.evaluate(np.array(img_test), np.array(ang_test), verbose=0)\n",
    "print(\"Average accuracy: {0:.2f}%\".format(100 - score))"
   ]
  },
  {
   "cell_type": "code",
   "execution_count": 11,
   "metadata": {},
   "outputs": [
    {
     "name": "stdout",
     "output_type": "stream",
     "text": [
      "Actual angle:  -8\n"
     ]
    },
    {
     "data": {
      "image/png": "[encoded data removed]",
      "text/plain": [
       "<matplotlib.figure.Figure at 0x7f3c704096a0>"
      ]
     },
     "metadata": {},
     "output_type": "display_data"
    }
   ],
   "source": [
    "# example: one test image that we want to correct\n",
    "random.seed(10)\n",
    "random_index = random.randint(0,len(samples_test)-1)\n",
    "angle = angles_test[random_index]\n",
    "img = mpimg.imread(samples_test[random_index])\n",
    "plt.imshow(img)\n",
    "print(\"Actual angle: \", angle)"
   ]
  },
  {
   "cell_type": "code",
   "execution_count": 12,
   "metadata": {},
   "outputs": [
    {
     "name": "stdout",
     "output_type": "stream",
     "text": [
      "Predicted angle:  -7.826287269592285\n"
     ]
    }
   ],
   "source": [
    "# predict angle\n",
    "image_array = np.asarray(img)\n",
    "ang = float(model.predict(image_array[None, :, :, :], batch_size=1))\n",
    "print(\"Predicted angle: \", ang)"
   ]
  },
  {
   "cell_type": "code",
   "execution_count": 13,
   "metadata": {},
   "outputs": [
    {
     "data": {
      "image/png": "[encoded data removed]",
      "text/plain": [
       "<matplotlib.figure.Figure at 0x7f3c9c57e208>"
      ]
     },
     "metadata": {},
     "output_type": "display_data"
    }
   ],
   "source": [
    "# angle correction\n",
    "height, width, ch = img.shape\n",
    "sh = (width, height)\n",
    "center = (width // 2, height // 2)\n",
    "M = cv2.getRotationMatrix2D(center, -ang, 1.0)\n",
    "result = cv2.warpAffine(img, M, sh)\n",
    "plt.imshow(result)\n",
    "plt.show()"
   ]
  },
  {
   "cell_type": "code",
   "execution_count": null,
   "metadata": {
    "collapsed": true
   },
   "outputs": [],
   "source": []
  }
 ],
 "metadata": {
  "kernelspec": {
   "display_name": "Python 3",
   "language": "python",
   "name": "python3"
  },
  "language_info": {
   "codemirror_mode": {
    "name": "ipython",
    "version": 3
   },
   "file_extension": ".py",
   "mimetype": "text/x-python",
   "name": "python",
   "nbconvert_exporter": "python",
   "pygments_lexer": "ipython3",
   "version": "3.5.2"
  },
  "widgets": {
   "state": {},
   "version": "1.1.2"
  }
 },
 "nbformat": 4,
 "nbformat_minor": 2
}
