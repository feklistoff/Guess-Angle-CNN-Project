{
 "cells": [
  {
   "cell_type": "markdown",
   "metadata": {},
   "source": [
    "## CNN that predicts angle\n",
    "\n",
    "A simple CNN with one output - a number represents angle of rotation. \n",
    "\n",
    "We use this angle to rotate picture back. As a visual indicator of rotation we use drawn rectangles."
   ]
  },
  {
   "cell_type": "code",
   "execution_count": 1,
   "metadata": {},
   "outputs": [
    {
     "name": "stderr",
     "output_type": "stream",
     "text": [
      "Using TensorFlow backend.\n"
     ]
    }
   ],
   "source": [
    "import cv2\n",
    "import random\n",
    "import pandas as pd\n",
    "import matplotlib.image as mpimg\n",
    "import numpy as np\n",
    "from sklearn.utils import shuffle\n",
    "from sklearn.model_selection import train_test_split\n",
    "\n",
    "from keras.models import load_model\n",
    "from keras.models import Sequential\n",
    "from keras.layers import Lambda, Dense, Flatten, Dropout\n",
    "from keras.layers import Conv2D, Activation, ELU\n",
    "from keras import regularizers\n",
    "from keras.layers.normalization import BatchNormalization\n",
    "from keras.optimizers import Adam\n",
    "from keras.callbacks import LearningRateScheduler, EarlyStopping, ModelCheckpoint\n",
    "\n",
    "import matplotlib.pyplot as plt\n",
    "%matplotlib inline"
   ]
  },
  {
   "cell_type": "code",
   "execution_count": 2,
   "metadata": {},
   "outputs": [],
   "source": [
    "# constants\n",
    "SIZE = 64\n",
    "BATCH_SIZE = 64"
   ]
  },
  {
   "cell_type": "code",
   "execution_count": 3,
   "metadata": {},
   "outputs": [
    {
     "name": "stdout",
     "output_type": "stream",
     "text": [
      "Number of training samples:  2600\n"
     ]
    }
   ],
   "source": [
    "# read csv logs\n",
    "rows = pd.read_csv('datalog_train_simple.csv')\n",
    "angles = rows['angle'].tolist()\n",
    "samples = rows['image'].tolist()\n",
    "print(\"Number of training samples: \", len(angles))"
   ]
  },
  {
   "cell_type": "code",
   "execution_count": 4,
   "metadata": {},
   "outputs": [],
   "source": [
    "# split\n",
    "shuffle(samples, angles)\n",
    "imgs_train, imgs_valid, angles_train, angles_valid = train_test_split(samples, angles, test_size=0.3)"
   ]
  },
  {
   "cell_type": "code",
   "execution_count": 5,
   "metadata": {},
   "outputs": [],
   "source": [
    "# data preprocessing pipeline\n",
    "def resize(img):\n",
    "    return cv2.resize(img, (SIZE, SIZE))\n",
    "\n",
    "def random_shift(img):\n",
    "    if random.randint(0, 1) == 0:\n",
    "        return img\n",
    "    h, w, c = img.shape\n",
    "    shape = (w, h)\n",
    "    M = np.float32([[1, 0, random.randint(-SIZE // 7, SIZE // 7)],\n",
    "                    [0, 1, random.randint(-SIZE // 9, SIZE // 9)]])\n",
    "    return cv2.warpAffine(img, M, shape)\n",
    "\n",
    "def flip(img, angle):\n",
    "    if random.randint(0, 1) == 0:\n",
    "        return img, angle\n",
    "    img = np.fliplr(img)\n",
    "    angle = -angle\n",
    "    return img, angle"
   ]
  },
  {
   "cell_type": "code",
   "execution_count": 6,
   "metadata": {},
   "outputs": [],
   "source": [
    "# generators\n",
    "def train_generator(batch_size):\n",
    "    while True:  # Loop forever so the generator never terminates\n",
    "        shuffle(imgs_train, angles_train)\n",
    "        batch_imgs = []\n",
    "        batch_angles = []\n",
    "        for i in range(batch_size):\n",
    "            random_index = random.randint(0,len(imgs_train)-1)\n",
    "            angle = angles_train[random_index] * (1 + random.uniform(-0.1, 0.1)) # add noise\n",
    "            img = mpimg.imread(imgs_train[random_index])\n",
    "            img = random_shift(img)\n",
    "            img, angle = flip(img, angle)\n",
    "            img = resize(img)\n",
    "            batch_imgs.append(img)\n",
    "            batch_angles.append(angle)\n",
    "        yield (np.array(batch_imgs), np.array(batch_angles))\n",
    "\n",
    "\n",
    "def valid_generator(batch_size):\n",
    "    while True:  # Loop forever so the generator never terminates\n",
    "        shuffle(imgs_valid, angles_valid)\n",
    "        batch_imgs = []\n",
    "        batch_angles = []\n",
    "        for i in range(batch_size):\n",
    "            random_index = random.randint(0,len(imgs_valid)-1)\n",
    "            angle = angles_valid[random_index]\n",
    "            img = mpimg.imread(imgs_valid[random_index])\n",
    "            img = resize(img)\n",
    "            batch_imgs.append(img)\n",
    "            batch_angles.append(angle)\n",
    "        yield (np.array(batch_imgs), np.array(batch_angles))\n",
    "\n",
    "# generate\n",
    "generator_train = train_generator(BATCH_SIZE)\n",
    "generator_valid = valid_generator(BATCH_SIZE)"
   ]
  },
  {
   "cell_type": "code",
   "execution_count": 7,
   "metadata": {},
   "outputs": [],
   "source": [
    "# parameters\n",
    "steps_per_epoch = len(imgs_train) // BATCH_SIZE\n",
    "val_steps = len(imgs_valid) // BATCH_SIZE\n",
    "shape = (SIZE, SIZE, 3)"
   ]
  },
  {
   "cell_type": "code",
   "execution_count": 8,
   "metadata": {},
   "outputs": [],
   "source": [
    "# network architecture\n",
    "def guess_angle():\n",
    "    model = Sequential()\n",
    "    model.add(Lambda(lambda x: (x / 250) - 0.5, input_shape=shape))\n",
    "\n",
    "    model.add(Conv2D(24, (5, 5), strides=(2, 2), padding=\"valid\", \n",
    "                     kernel_initializer=\"he_normal\"))\n",
    "    \n",
    "    model.add(Flatten())\n",
    "\n",
    "    model.add(Dense(100, kernel_initializer='he_normal'))\n",
    "    model.add(ELU())\n",
    "    \n",
    "    model.add(Dense(1))\n",
    "    return model"
   ]
  },
  {
   "cell_type": "code",
   "execution_count": 9,
   "metadata": {
    "scrolled": false
   },
   "outputs": [
    {
     "name": "stdout",
     "output_type": "stream",
     "text": [
      "_________________________________________________________________\n",
      "Layer (type)                 Output Shape              Param #   \n",
      "=================================================================\n",
      "lambda_1 (Lambda)            (None, 64, 64, 3)         0         \n",
      "_________________________________________________________________\n",
      "conv2d_1 (Conv2D)            (None, 30, 30, 24)        1824      \n",
      "_________________________________________________________________\n",
      "flatten_1 (Flatten)          (None, 21600)             0         \n",
      "_________________________________________________________________\n",
      "dense_1 (Dense)              (None, 100)               2160100   \n",
      "_________________________________________________________________\n",
      "elu_1 (ELU)                  (None, 100)               0         \n",
      "_________________________________________________________________\n",
      "dense_2 (Dense)              (None, 1)                 101       \n",
      "=================================================================\n",
      "Total params: 2,162,025\n",
      "Trainable params: 2,162,025\n",
      "Non-trainable params: 0\n",
      "_________________________________________________________________\n",
      "learning rate: 0.001\n",
      "Epoch 1/10\n",
      "28/28 [==============================] - 1s - loss: 87.0824 - val_loss: 23.0267ss: 1\n",
      "Epoch 2/10\n",
      "28/28 [==============================] - 1s - loss: 24.0738 - val_loss: 13.7766\n",
      "Epoch 3/10\n",
      "28/28 [==============================] - 1s - loss: 15.5165 - val_loss: 10.3125\n",
      "Epoch 4/10\n",
      "28/28 [==============================] - 1s - loss: 11.4382 - val_loss: 8.5913\n",
      "Epoch 5/10\n",
      "28/28 [==============================] - 1s - loss: 9.5864 - val_loss: 6.0469\n",
      "Epoch 6/10\n",
      "28/28 [==============================] - 1s - loss: 7.4388 - val_loss: 4.3463\n",
      "Epoch 7/10\n",
      "28/28 [==============================] - 1s - loss: 6.1175 - val_loss: 4.3362\n",
      "Epoch 8/10\n",
      "28/28 [==============================] - 1s - loss: 5.0896 - val_loss: 3.1303\n",
      "Epoch 9/10\n",
      "28/28 [==============================] - 1s - loss: 4.0821 - val_loss: 2.1172\n",
      "learning rate: 0.0003\n",
      "Epoch 10/10\n",
      "28/28 [==============================] - 1s - loss: 3.6284 - val_loss: 2.3431\n"
     ]
    }
   ],
   "source": [
    "model = guess_angle()\n",
    "\n",
    "# train and save\n",
    "adam = Adam(lr=0.001)\n",
    "\n",
    "import keras.backend as K\n",
    "def scheduler(epoch):\n",
    "    if epoch == 0:\n",
    "        print(\"learning rate:\", K.get_value(model.optimizer.lr))\n",
    "    if (epoch+1) % 10 == 0:\n",
    "        rate = K.get_value(model.optimizer.lr)\n",
    "        K.set_value(model.optimizer.lr, rate * 0.3)\n",
    "        print(\"learning rate:\", K.get_value(model.optimizer.lr))\n",
    "    return K.get_value(model.optimizer.lr)\n",
    "\n",
    "learning_rate_decay = LearningRateScheduler(scheduler)\n",
    "early_stop = EarlyStopping(monitor='val_loss', patience=5)\n",
    "checkpoint = ModelCheckpoint('model_simple.h5', monitor='val_loss', save_best_only=True)\n",
    "\n",
    "model.compile(loss='mse', optimizer=adam)\n",
    "model.summary()\n",
    "\n",
    "history = model.fit_generator(generator_train,\n",
    "                    steps_per_epoch=steps_per_epoch,\n",
    "                    epochs=10,\n",
    "                    validation_data=generator_valid,\n",
    "                    validation_steps=val_steps, \n",
    "                    callbacks=[checkpoint, early_stop, learning_rate_decay])\n",
    "\n",
    "model.save('model_simple.h5')\n"
   ]
  },
  {
   "cell_type": "markdown",
   "metadata": {
    "collapsed": true
   },
   "source": [
    "## Evaluate model"
   ]
  },
  {
   "cell_type": "code",
   "execution_count": 10,
   "metadata": {},
   "outputs": [
    {
     "data": {
      "image/png": "[encoded data removed]",
      "text/plain": [
       "<matplotlib.figure.Figure at 0x7f304abc3e80>"
      ]
     },
     "metadata": {},
     "output_type": "display_data"
    }
   ],
   "source": [
    "# plot loss\n",
    "plt.plot(history.history['loss'])\n",
    "plt.plot(history.history['val_loss'])\n",
    "plt.title('model mean squared error loss')\n",
    "plt.ylabel('mean squared error loss')\n",
    "plt.xlabel('epoch')\n",
    "plt.legend(['training set', 'validation set'], loc='upper right')\n",
    "plt.show()"
   ]
  },
  {
   "cell_type": "code",
   "execution_count": 11,
   "metadata": {},
   "outputs": [
    {
     "name": "stdout",
     "output_type": "stream",
     "text": [
      "Number of test samples:  500\n"
     ]
    }
   ],
   "source": [
    "# read csv logs\n",
    "rows_test = pd.read_csv('datalog_test_simple.csv')\n",
    "angles_test = rows_test['angle'].tolist()\n",
    "samples_test = rows_test['image'].tolist()\n",
    "print(\"Number of test samples: \", len(samples_test))"
   ]
  },
  {
   "cell_type": "code",
   "execution_count": 12,
   "metadata": {},
   "outputs": [
    {
     "name": "stdout",
     "output_type": "stream",
     "text": [
      "Average error: ±1.76\n"
     ]
    }
   ],
   "source": [
    "# evaluate on test data\n",
    "img_test = []\n",
    "ang_test = []\n",
    "\n",
    "for i in range(len(samples_test)-1):\n",
    "    angle = angles_test[i]\n",
    "    img = mpimg.imread(samples_test[i])\n",
    "    img = resize(img)\n",
    "    img_test.append(img)\n",
    "    ang_test.append(angle)\n",
    "    \n",
    "score = model.evaluate(np.array(img_test), np.array(ang_test), verbose=0)\n",
    "print(\"Average error: ±{0:.2f}\".format(np.sqrt(score)))"
   ]
  },
  {
   "cell_type": "code",
   "execution_count": 13,
   "metadata": {},
   "outputs": [
    {
     "name": "stdout",
     "output_type": "stream",
     "text": [
      "Actual angle:  -5\n"
     ]
    },
    {
     "data": {
      "image/png": "[encoded data removed]",
      "text/plain": [
       "<matplotlib.figure.Figure at 0x7f303446f2e8>"
      ]
     },
     "metadata": {},
     "output_type": "display_data"
    }
   ],
   "source": [
    "# example: one test image that we want to correct\n",
    "random.seed(10)\n",
    "random_index = random.randint(0,len(samples_test)-1)\n",
    "angle = angles_test[random_index]\n",
    "img = mpimg.imread(samples_test[random_index])\n",
    "plt.imshow(img)\n",
    "print(\"Actual angle: \", angle)"
   ]
  },
  {
   "cell_type": "code",
   "execution_count": 14,
   "metadata": {},
   "outputs": [
    {
     "name": "stdout",
     "output_type": "stream",
     "text": [
      "Predicted angle:  -5.23566198348999\n"
     ]
    }
   ],
   "source": [
    "# predict angle\n",
    "image = resize(img)\n",
    "image_array = np.asarray(image)\n",
    "ang = float(model.predict(image_array[None, :, :, :], batch_size=1))\n",
    "print(\"Predicted angle: \", ang)"
   ]
  },
  {
   "cell_type": "code",
   "execution_count": 15,
   "metadata": {},
   "outputs": [
    {
     "data": {
      "image/png": "[encoded data removed]",
      "text/plain": [
       "<matplotlib.figure.Figure at 0x7f303446f240>"
      ]
     },
     "metadata": {},
     "output_type": "display_data"
    }
   ],
   "source": [
    "# angle correction\n",
    "height, width, ch = img.shape\n",
    "sh = (width, height)\n",
    "center = (width // 2, height // 2)\n",
    "M = cv2.getRotationMatrix2D(center, -ang, 1.0)\n",
    "result = cv2.warpAffine(img, M, sh)\n",
    "plt.imshow(result)\n",
    "plt.show()"
   ]
  },
  {
   "cell_type": "code",
   "execution_count": null,
   "metadata": {
    "collapsed": true
   },
   "outputs": [],
   "source": []
  }
 ],
 "metadata": {
  "kernelspec": {
   "display_name": "Python 3",
   "language": "python",
   "name": "python3"
  },
  "language_info": {
   "codemirror_mode": {
    "name": "ipython",
    "version": 3
   },
   "file_extension": ".py",
   "mimetype": "text/x-python",
   "name": "python",
   "nbconvert_exporter": "python",
   "pygments_lexer": "ipython3",
   "version": "3.5.4"
  },
  "widgets": {
   "state": {},
   "version": "1.1.2"
  }
 },
 "nbformat": 4,
 "nbformat_minor": 2
}
